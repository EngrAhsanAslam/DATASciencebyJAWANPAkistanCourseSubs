{
 "cells": [
  {
   "cell_type": "code",
   "execution_count": 2,
   "id": "8c0e51fe",
   "metadata": {},
   "outputs": [
    {
     "name": "stdout",
     "output_type": "stream",
     "text": [
      "Twinkle, twinkle, little Star,\n",
      "         How I wonder what you are!\n",
      "                  Up above the world so high,\n",
      "                  Like a diamond in the sky.\n",
      "Twinkle, twinkle, little Star,\n",
      "         How I wonder what you are\n"
     ]
    }
   ],
   "source": [
    "#Task 1\n",
    "\n",
    "\n",
    "print(\"Twinkle, twinkle, little Star,\");\n",
    "print(\"         How I wonder what you are!\");\n",
    "print(\"                  Up above the world so high,\");\n",
    "print(\"                  Like a diamond in the sky.\");\n",
    "print(\"Twinkle, twinkle, little Star,\");\n",
    "print(\"         How I wonder what you are\");"
   ]
  },
  {
   "cell_type": "code",
   "execution_count": 3,
   "id": "df203fa2",
   "metadata": {},
   "outputs": [
    {
     "name": "stdout",
     "output_type": "stream",
     "text": [
      "3.9.7\n"
     ]
    }
   ],
   "source": [
    "# Task 2\n",
    "\n",
    "from platform import python_version\n",
    "\n",
    "print(python_version());"
   ]
  },
  {
   "cell_type": "code",
   "execution_count": 13,
   "id": "49f2e300",
   "metadata": {},
   "outputs": [
    {
     "name": "stdout",
     "output_type": "stream",
     "text": [
      "Date is :\n",
      "2022-01-01\n",
      "Time is :\n",
      "16:29:06\n"
     ]
    }
   ],
   "source": [
    "#Task 3\n",
    "\n",
    "import datetime\n",
    "Todaytime = datetime.datetime.now()\n",
    "print (\"Date is :\")\n",
    "print (Todaytime.strftime(\"%Y-%m-%d\"))\n",
    "print (\"Time is :\")\n",
    "print (Todaytime.strftime(\"%H:%M:%S\"))"
   ]
  },
  {
   "cell_type": "code",
   "execution_count": 12,
   "id": "51f5ec44",
   "metadata": {},
   "outputs": [
    {
     "name": "stdout",
     "output_type": "stream",
     "text": [
      "Enter Radius of Circle =2\n",
      "Area of Circle is \n",
      "12.568\n"
     ]
    }
   ],
   "source": [
    "#Task 4\n",
    "Radius = input(\"Enter Radius of Circle =\")\n",
    "Radius = float(Radius)\n",
    "print(\"Area of Circle is \")\n",
    "print(3.142*(Radius*Radius))"
   ]
  },
  {
   "cell_type": "code",
   "execution_count": 14,
   "id": "d102e7b6",
   "metadata": {},
   "outputs": [
    {
     "name": "stdout",
     "output_type": "stream",
     "text": [
      "Enter your First Name :Ahsan\n",
      "Enter your Last Name :Aslam\n",
      "Hello Aslam Ahsan\n"
     ]
    }
   ],
   "source": [
    "#Task 5\n",
    "FName = input(\"Enter your First Name :\")\n",
    "LName = input(\"Enter your Last Name :\")\n",
    "print(\"Hello \"+LName + \" \" + FName);"
   ]
  },
  {
   "cell_type": "code",
   "execution_count": 16,
   "id": "648f1773",
   "metadata": {},
   "outputs": [
    {
     "name": "stdout",
     "output_type": "stream",
     "text": [
      "Enter your First Number :12\n",
      "Enter your Second Number :12\n",
      "Sum of both Number is :\n",
      "24.0\n"
     ]
    }
   ],
   "source": [
    "#Task 6\n",
    "FNum = input(\"Enter your First Number :\")\n",
    "FNum = float(FNum)\n",
    "SNum = input(\"Enter your Second Number :\")\n",
    "SNum = float(SNum)\n",
    "Sum = FNum + SNum;\n",
    "print(\"Sum of both Number is :\");\n",
    "print(Sum);"
   ]
  },
  {
   "cell_type": "code",
   "execution_count": null,
   "id": "11ee3f88",
   "metadata": {},
   "outputs": [],
   "source": []
  }
 ],
 "metadata": {
  "kernelspec": {
   "display_name": "Python 3 (ipykernel)",
   "language": "python",
   "name": "python3"
  },
  "language_info": {
   "codemirror_mode": {
    "name": "ipython",
    "version": 3
   },
   "file_extension": ".py",
   "mimetype": "text/x-python",
   "name": "python",
   "nbconvert_exporter": "python",
   "pygments_lexer": "ipython3",
   "version": "3.9.7"
  }
 },
 "nbformat": 4,
 "nbformat_minor": 5
}
